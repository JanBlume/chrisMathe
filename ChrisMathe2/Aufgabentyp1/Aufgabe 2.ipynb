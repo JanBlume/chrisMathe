{
 "cells": [
  {
   "cell_type": "markdown",
   "id": "7356889b",
   "metadata": {},
   "source": [
    "Aufgabe 2: Es gibt drei Geschwister Alfred, Basti und Charles.\n",
    "Alfred und Basti wiegen zusammen 90 kg. Basti ist 15 kg schwerer als Charles. Basti ist außerdem fett, er ist doppelt so schwer wie Alfred. Stelle ein Gleichungssystem auf.\n"
   ]
  },
  {
   "cell_type": "markdown",
   "id": "16a62793",
   "metadata": {},
   "source": [
    "<details>\n",
    "<summary>Lösung</summary>\n",
    "\n",
    "Schritt 1: Variablen definieren\n",
    "\n",
    "$$\n",
    "x_1 := Alfred\n",
    "$$\n",
    "$$\n",
    "x_2 := Basti\n",
    "$$\n",
    "$$\n",
    "x_3 := Charles\n",
    "$$\n",
    "\n",
    "\n",
    "Schritt 2: Gleichugnssystem aufstellen\n",
    "\n",
    "Alfred und Basti wiegen zusammen 90 kg.\n",
    "\n",
    "$$\n",
    "I: x_1 + x_2 = 90\n",
    "$$\n",
    "\n",
    "Basti ist 15 kg schwerer als Charles.\n",
    "\n",
    "$$\n",
    "II:  x_2 = x_3 + 15\n",
    "$$\n",
    "\n",
    "Basti ist außerdem fett, er ist doppelt so schwer wie Alfred.\n",
    "\n",
    "$$\n",
    "III:  x_2 = 2x_1\n",
    "$$\n",
    "</details>\n"
   ]
  },
  {
   "cell_type": "markdown",
   "id": "d58ed287",
   "metadata": {},
   "source": [
    "Bonusaufgabe: Kannst du das Gleichungssystem lösen? Wie schwer sind Alfred, Basti und Charles?\n",
    "\n",
    "<details>\n",
    "<summary>Lösung</summary>\n",
    "\n",
    "Es gibt verschiedene Lösungswege.\n",
    "Entweder macht man es strukturiert über das Gaussverfahren ( weniger fehleranfällig und sehr empfohlen) oder man löst es chaotisch. Chaotisch würde ich es so machen: Gleichung $III$ in Gleichung $I$ einsetzen. Das Ergebnis wiederum in Gleichung $III$ und das Ergebnis schlussendlich in Gleichung $II$.\n",
    "\n",
    "$$\n",
    "x_1 = 30\n",
    "$$\n",
    "$$\n",
    "x_2 = 60\n",
    "$$\n",
    "$$\n",
    "x_3 = 45\n",
    "$$\n",
    "</details>"
   ]
  }
 ],
 "metadata": {
  "language_info": {
   "name": "python"
  }
 },
 "nbformat": 4,
 "nbformat_minor": 5
}
